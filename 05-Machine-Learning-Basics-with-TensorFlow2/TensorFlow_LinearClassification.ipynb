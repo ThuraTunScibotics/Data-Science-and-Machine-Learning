{
  "nbformat": 4,
  "nbformat_minor": 0,
  "metadata": {
    "colab": {
      "name": "TensorFlow-LinearClassification.ipynb",
      "provenance": []
    },
    "kernelspec": {
      "name": "python3",
      "display_name": "Python 3"
    },
    "language_info": {
      "name": "python"
    }
  },
  "cells": [
    {
      "cell_type": "markdown",
      "source": [
        "### Importing TF"
      ],
      "metadata": {
        "id": "ozj4InD8-fA_"
      }
    },
    {
      "cell_type": "code",
      "execution_count": 1,
      "metadata": {
        "colab": {
          "base_uri": "https://localhost:8080/"
        },
        "id": "TOrUfnT77VIi",
        "outputId": "b2ae6ec6-c309-4672-eefc-7574deadf9cf"
      },
      "outputs": [
        {
          "output_type": "stream",
          "name": "stdout",
          "text": [
            "2.7.0\n"
          ]
        }
      ],
      "source": [
        "# import TF\n",
        "import tensorflow as tf\n",
        "print(tf.__version__)"
      ]
    },
    {
      "cell_type": "markdown",
      "source": [
        "### Loading data"
      ],
      "metadata": {
        "id": "jphCyjkV-out"
      }
    },
    {
      "cell_type": "code",
      "source": [
        "# Load the data\n",
        "from sklearn.datasets import load_breast_cancer\n",
        "\n",
        "data = load_breast_cancer()\n",
        "\n",
        "#data"
      ],
      "metadata": {
        "id": "fqNsgtQ27rJb"
      },
      "execution_count": 4,
      "outputs": []
    },
    {
      "cell_type": "code",
      "source": [
        "# check data type\n",
        "type(data)"
      ],
      "metadata": {
        "colab": {
          "base_uri": "https://localhost:8080/"
        },
        "id": "4JtsmD_-8c0I",
        "outputId": "a796c4a6-5baa-49cb-f110-abb070f383dd"
      },
      "execution_count": 8,
      "outputs": [
        {
          "output_type": "execute_result",
          "data": {
            "text/plain": [
              "sklearn.utils.Bunch"
            ]
          },
          "metadata": {},
          "execution_count": 8
        }
      ]
    },
    {
      "cell_type": "code",
      "source": [
        "# data shape\n",
        "data.data.shape"
      ],
      "metadata": {
        "colab": {
          "base_uri": "https://localhost:8080/"
        },
        "id": "JzfH8bWz9gtJ",
        "outputId": "d8c64a77-e8fc-4d98-b98f-79c3c0dc187b"
      },
      "execution_count": 12,
      "outputs": [
        {
          "output_type": "execute_result",
          "data": {
            "text/plain": [
              "(569, 30)"
            ]
          },
          "metadata": {},
          "execution_count": 12
        }
      ]
    },
    {
      "cell_type": "code",
      "source": [
        "# data keys\n",
        "data.keys()"
      ],
      "metadata": {
        "colab": {
          "base_uri": "https://localhost:8080/"
        },
        "id": "YRAD_Ebl8xwL",
        "outputId": "c06cbd04-565e-4f97-a118-86c992a61dab"
      },
      "execution_count": 9,
      "outputs": [
        {
          "output_type": "execute_result",
          "data": {
            "text/plain": [
              "dict_keys(['data', 'target', 'frame', 'target_names', 'DESCR', 'feature_names', 'filename', 'data_module'])"
            ]
          },
          "metadata": {},
          "execution_count": 9
        }
      ]
    },
    {
      "cell_type": "code",
      "source": [
        "# data targets\n",
        "data.target"
      ],
      "metadata": {
        "colab": {
          "base_uri": "https://localhost:8080/"
        },
        "id": "DOFdA-ob9Qlz",
        "outputId": "8e16c4b9-b959-4e94-f453-07719392d0f0"
      },
      "execution_count": 10,
      "outputs": [
        {
          "output_type": "execute_result",
          "data": {
            "text/plain": [
              "array([0, 0, 0, 0, 0, 0, 0, 0, 0, 0, 0, 0, 0, 0, 0, 0, 0, 0, 0, 1, 1, 1,\n",
              "       0, 0, 0, 0, 0, 0, 0, 0, 0, 0, 0, 0, 0, 0, 0, 1, 0, 0, 0, 0, 0, 0,\n",
              "       0, 0, 1, 0, 1, 1, 1, 1, 1, 0, 0, 1, 0, 0, 1, 1, 1, 1, 0, 1, 0, 0,\n",
              "       1, 1, 1, 1, 0, 1, 0, 0, 1, 0, 1, 0, 0, 1, 1, 1, 0, 0, 1, 0, 0, 0,\n",
              "       1, 1, 1, 0, 1, 1, 0, 0, 1, 1, 1, 0, 0, 1, 1, 1, 1, 0, 1, 1, 0, 1,\n",
              "       1, 1, 1, 1, 1, 1, 1, 0, 0, 0, 1, 0, 0, 1, 1, 1, 0, 0, 1, 0, 1, 0,\n",
              "       0, 1, 0, 0, 1, 1, 0, 1, 1, 0, 1, 1, 1, 1, 0, 1, 1, 1, 1, 1, 1, 1,\n",
              "       1, 1, 0, 1, 1, 1, 1, 0, 0, 1, 0, 1, 1, 0, 0, 1, 1, 0, 0, 1, 1, 1,\n",
              "       1, 0, 1, 1, 0, 0, 0, 1, 0, 1, 0, 1, 1, 1, 0, 1, 1, 0, 0, 1, 0, 0,\n",
              "       0, 0, 1, 0, 0, 0, 1, 0, 1, 0, 1, 1, 0, 1, 0, 0, 0, 0, 1, 1, 0, 0,\n",
              "       1, 1, 1, 0, 1, 1, 1, 1, 1, 0, 0, 1, 1, 0, 1, 1, 0, 0, 1, 0, 1, 1,\n",
              "       1, 1, 0, 1, 1, 1, 1, 1, 0, 1, 0, 0, 0, 0, 0, 0, 0, 0, 0, 0, 0, 0,\n",
              "       0, 0, 1, 1, 1, 1, 1, 1, 0, 1, 0, 1, 1, 0, 1, 1, 0, 1, 0, 0, 1, 1,\n",
              "       1, 1, 1, 1, 1, 1, 1, 1, 1, 1, 1, 0, 1, 1, 0, 1, 0, 1, 1, 1, 1, 1,\n",
              "       1, 1, 1, 1, 1, 1, 1, 1, 1, 0, 1, 1, 1, 0, 1, 0, 1, 1, 1, 1, 0, 0,\n",
              "       0, 1, 1, 1, 1, 0, 1, 0, 1, 0, 1, 1, 1, 0, 1, 1, 1, 1, 1, 1, 1, 0,\n",
              "       0, 0, 1, 1, 1, 1, 1, 1, 1, 1, 1, 1, 1, 0, 0, 1, 0, 0, 0, 1, 0, 0,\n",
              "       1, 1, 1, 1, 1, 0, 1, 1, 1, 1, 1, 0, 1, 1, 1, 0, 1, 1, 0, 0, 1, 1,\n",
              "       1, 1, 1, 1, 0, 1, 1, 1, 1, 1, 1, 1, 0, 1, 1, 1, 1, 1, 0, 1, 1, 0,\n",
              "       1, 1, 1, 1, 1, 1, 1, 1, 1, 1, 1, 1, 0, 1, 0, 0, 1, 0, 1, 1, 1, 1,\n",
              "       1, 0, 1, 1, 0, 1, 0, 1, 1, 0, 1, 0, 1, 1, 1, 1, 1, 1, 1, 1, 0, 0,\n",
              "       1, 1, 1, 1, 1, 1, 0, 1, 1, 1, 1, 1, 1, 1, 1, 1, 1, 0, 1, 1, 1, 1,\n",
              "       1, 1, 1, 0, 1, 0, 1, 1, 0, 1, 1, 1, 1, 1, 0, 0, 1, 0, 1, 0, 1, 1,\n",
              "       1, 1, 1, 0, 1, 1, 0, 1, 0, 1, 0, 0, 1, 1, 1, 0, 1, 1, 1, 1, 1, 1,\n",
              "       1, 1, 1, 1, 1, 0, 1, 0, 0, 1, 1, 1, 1, 1, 1, 1, 1, 1, 1, 1, 1, 1,\n",
              "       1, 1, 1, 1, 1, 1, 1, 1, 1, 1, 1, 1, 0, 0, 0, 0, 0, 0, 1])"
            ]
          },
          "metadata": {},
          "execution_count": 10
        }
      ]
    },
    {
      "cell_type": "code",
      "source": [
        "# target name\n",
        "data.target_names"
      ],
      "metadata": {
        "colab": {
          "base_uri": "https://localhost:8080/"
        },
        "id": "c4sfqbKC9cXv",
        "outputId": "d49adfe8-8c84-480d-8c3a-73e1103763fe"
      },
      "execution_count": 13,
      "outputs": [
        {
          "output_type": "execute_result",
          "data": {
            "text/plain": [
              "array(['malignant', 'benign'], dtype='<U9')"
            ]
          },
          "metadata": {},
          "execution_count": 13
        }
      ]
    },
    {
      "cell_type": "code",
      "source": [
        "# data features\n",
        "data.feature_names"
      ],
      "metadata": {
        "colab": {
          "base_uri": "https://localhost:8080/"
        },
        "id": "f-zEKUXT9yQG",
        "outputId": "009cccc2-79f8-4fc8-edd2-74c8107a2db8"
      },
      "execution_count": 14,
      "outputs": [
        {
          "output_type": "execute_result",
          "data": {
            "text/plain": [
              "array(['mean radius', 'mean texture', 'mean perimeter', 'mean area',\n",
              "       'mean smoothness', 'mean compactness', 'mean concavity',\n",
              "       'mean concave points', 'mean symmetry', 'mean fractal dimension',\n",
              "       'radius error', 'texture error', 'perimeter error', 'area error',\n",
              "       'smoothness error', 'compactness error', 'concavity error',\n",
              "       'concave points error', 'symmetry error',\n",
              "       'fractal dimension error', 'worst radius', 'worst texture',\n",
              "       'worst perimeter', 'worst area', 'worst smoothness',\n",
              "       'worst compactness', 'worst concavity', 'worst concave points',\n",
              "       'worst symmetry', 'worst fractal dimension'], dtype='<U23')"
            ]
          },
          "metadata": {},
          "execution_count": 14
        }
      ]
    },
    {
      "cell_type": "markdown",
      "source": [
        "### Split the data with Sklearn"
      ],
      "metadata": {
        "id": "xRJ-ZsZ7-GZN"
      }
    },
    {
      "cell_type": "code",
      "source": [
        "from sklearn.model_selection import train_test_split\n",
        "\n",
        "X_train, X_test, y_train, y_test = train_test_split(data.data, data.target, test_size=0.2)\n",
        "N, D = X_train.shape"
      ],
      "metadata": {
        "id": "8CeJPtAu_IwH"
      },
      "execution_count": 16,
      "outputs": []
    },
    {
      "cell_type": "code",
      "source": [
        "N, D"
      ],
      "metadata": {
        "colab": {
          "base_uri": "https://localhost:8080/"
        },
        "id": "f0_2bus5_xHO",
        "outputId": "5df5b78e-548d-4b90-f343-786ddb6dcb19"
      },
      "execution_count": 17,
      "outputs": [
        {
          "output_type": "execute_result",
          "data": {
            "text/plain": [
              "(455, 30)"
            ]
          },
          "metadata": {},
          "execution_count": 17
        }
      ]
    },
    {
      "cell_type": "code",
      "source": [
        "## Scale the data\n",
        "\n",
        "from sklearn.preprocessing import StandardScaler\n",
        "\n",
        "scaler = StandardScaler()\n",
        "X_train = scaler.fit_transform(X_train)\n",
        "X_test = scaler.transform(X_test)"
      ],
      "metadata": {
        "id": "2Zfnq5mm_6Ae"
      },
      "execution_count": 18,
      "outputs": []
    },
    {
      "cell_type": "markdown",
      "source": [
        "### using TF: Build the model, Train, Evaluate, and Predict"
      ],
      "metadata": {
        "id": "zYXI1hEDAoNi"
      }
    },
    {
      "cell_type": "code",
      "source": [
        "# Build the model\n",
        "model = tf.keras.models.Sequential([\n",
        "  tf.keras.layers.Input(shape=(D,)),\n",
        "  tf.keras.layers.Dense(1, activation='sigmoid')\n",
        "])\n",
        "\n",
        "### second method of building model\n",
        "# model = tf.keras.models.Sequential()\n",
        "# model.add(tf.keras.layers.Dense(1, input_shape=(D,), activation='sigmoid))\n",
        "\n",
        "# Compile the model\n",
        "model.compile(optimizer='adam',\n",
        "              loss = 'binary_crossentropy',\n",
        "              metrics=['accuracy'])\n",
        "\n",
        "# Train the model\n",
        "r = model.fit(X_train, y_train, validation_data=(X_test, y_test), epochs=100)\n",
        "\n",
        "# Evaluate the model = evaluate() returns loss and accuracy\n",
        "print(\"Train score:\", model.evaluate(X_train, y_train))\n",
        "print(\"Test score:\", model.evaluate(X_test, y_test))"
      ],
      "metadata": {
        "colab": {
          "base_uri": "https://localhost:8080/"
        },
        "id": "6b1Mo276AYVG",
        "outputId": "fce71523-ddf6-4eb4-c6cc-ffd2a5701eeb"
      },
      "execution_count": 19,
      "outputs": [
        {
          "output_type": "stream",
          "name": "stdout",
          "text": [
            "Epoch 1/100\n",
            "15/15 [==============================] - 1s 16ms/step - loss: 0.7167 - accuracy: 0.5385 - val_loss: 0.7637 - val_accuracy: 0.5789\n",
            "Epoch 2/100\n",
            "15/15 [==============================] - 0s 4ms/step - loss: 0.6299 - accuracy: 0.6615 - val_loss: 0.6803 - val_accuracy: 0.6754\n",
            "Epoch 3/100\n",
            "15/15 [==============================] - 0s 4ms/step - loss: 0.5600 - accuracy: 0.7758 - val_loss: 0.6103 - val_accuracy: 0.7105\n",
            "Epoch 4/100\n",
            "15/15 [==============================] - 0s 4ms/step - loss: 0.5025 - accuracy: 0.8330 - val_loss: 0.5530 - val_accuracy: 0.7368\n",
            "Epoch 5/100\n",
            "15/15 [==============================] - 0s 4ms/step - loss: 0.4572 - accuracy: 0.8527 - val_loss: 0.5070 - val_accuracy: 0.7719\n",
            "Epoch 6/100\n",
            "15/15 [==============================] - 0s 4ms/step - loss: 0.4201 - accuracy: 0.8659 - val_loss: 0.4713 - val_accuracy: 0.7807\n",
            "Epoch 7/100\n",
            "15/15 [==============================] - 0s 4ms/step - loss: 0.3895 - accuracy: 0.8813 - val_loss: 0.4417 - val_accuracy: 0.8158\n",
            "Epoch 8/100\n",
            "15/15 [==============================] - 0s 4ms/step - loss: 0.3637 - accuracy: 0.8967 - val_loss: 0.4160 - val_accuracy: 0.8246\n",
            "Epoch 9/100\n",
            "15/15 [==============================] - 0s 3ms/step - loss: 0.3415 - accuracy: 0.9099 - val_loss: 0.3939 - val_accuracy: 0.8509\n",
            "Epoch 10/100\n",
            "15/15 [==============================] - 0s 4ms/step - loss: 0.3216 - accuracy: 0.9187 - val_loss: 0.3749 - val_accuracy: 0.8684\n",
            "Epoch 11/100\n",
            "15/15 [==============================] - 0s 4ms/step - loss: 0.3041 - accuracy: 0.9231 - val_loss: 0.3583 - val_accuracy: 0.8947\n",
            "Epoch 12/100\n",
            "15/15 [==============================] - 0s 3ms/step - loss: 0.2890 - accuracy: 0.9275 - val_loss: 0.3439 - val_accuracy: 0.9035\n",
            "Epoch 13/100\n",
            "15/15 [==============================] - 0s 3ms/step - loss: 0.2756 - accuracy: 0.9275 - val_loss: 0.3313 - val_accuracy: 0.9035\n",
            "Epoch 14/100\n",
            "15/15 [==============================] - 0s 3ms/step - loss: 0.2637 - accuracy: 0.9297 - val_loss: 0.3198 - val_accuracy: 0.9035\n",
            "Epoch 15/100\n",
            "15/15 [==============================] - 0s 4ms/step - loss: 0.2529 - accuracy: 0.9297 - val_loss: 0.3095 - val_accuracy: 0.9035\n",
            "Epoch 16/100\n",
            "15/15 [==============================] - 0s 5ms/step - loss: 0.2429 - accuracy: 0.9363 - val_loss: 0.3006 - val_accuracy: 0.9123\n",
            "Epoch 17/100\n",
            "15/15 [==============================] - 0s 3ms/step - loss: 0.2339 - accuracy: 0.9363 - val_loss: 0.2925 - val_accuracy: 0.9123\n",
            "Epoch 18/100\n",
            "15/15 [==============================] - 0s 4ms/step - loss: 0.2258 - accuracy: 0.9407 - val_loss: 0.2851 - val_accuracy: 0.9123\n",
            "Epoch 19/100\n",
            "15/15 [==============================] - 0s 4ms/step - loss: 0.2182 - accuracy: 0.9429 - val_loss: 0.2782 - val_accuracy: 0.9211\n",
            "Epoch 20/100\n",
            "15/15 [==============================] - 0s 3ms/step - loss: 0.2111 - accuracy: 0.9429 - val_loss: 0.2717 - val_accuracy: 0.9211\n",
            "Epoch 21/100\n",
            "15/15 [==============================] - 0s 3ms/step - loss: 0.2043 - accuracy: 0.9473 - val_loss: 0.2657 - val_accuracy: 0.9211\n",
            "Epoch 22/100\n",
            "15/15 [==============================] - 0s 4ms/step - loss: 0.1981 - accuracy: 0.9473 - val_loss: 0.2603 - val_accuracy: 0.9298\n",
            "Epoch 23/100\n",
            "15/15 [==============================] - 0s 4ms/step - loss: 0.1927 - accuracy: 0.9495 - val_loss: 0.2552 - val_accuracy: 0.9298\n",
            "Epoch 24/100\n",
            "15/15 [==============================] - 0s 4ms/step - loss: 0.1873 - accuracy: 0.9495 - val_loss: 0.2502 - val_accuracy: 0.9298\n",
            "Epoch 25/100\n",
            "15/15 [==============================] - 0s 4ms/step - loss: 0.1823 - accuracy: 0.9495 - val_loss: 0.2457 - val_accuracy: 0.9298\n",
            "Epoch 26/100\n",
            "15/15 [==============================] - 0s 3ms/step - loss: 0.1776 - accuracy: 0.9495 - val_loss: 0.2416 - val_accuracy: 0.9298\n",
            "Epoch 27/100\n",
            "15/15 [==============================] - 0s 3ms/step - loss: 0.1733 - accuracy: 0.9495 - val_loss: 0.2376 - val_accuracy: 0.9298\n",
            "Epoch 28/100\n",
            "15/15 [==============================] - 0s 3ms/step - loss: 0.1693 - accuracy: 0.9538 - val_loss: 0.2339 - val_accuracy: 0.9298\n",
            "Epoch 29/100\n",
            "15/15 [==============================] - 0s 4ms/step - loss: 0.1654 - accuracy: 0.9538 - val_loss: 0.2305 - val_accuracy: 0.9298\n",
            "Epoch 30/100\n",
            "15/15 [==============================] - 0s 3ms/step - loss: 0.1619 - accuracy: 0.9582 - val_loss: 0.2272 - val_accuracy: 0.9298\n",
            "Epoch 31/100\n",
            "15/15 [==============================] - 0s 4ms/step - loss: 0.1584 - accuracy: 0.9582 - val_loss: 0.2240 - val_accuracy: 0.9474\n",
            "Epoch 32/100\n",
            "15/15 [==============================] - 0s 3ms/step - loss: 0.1551 - accuracy: 0.9604 - val_loss: 0.2209 - val_accuracy: 0.9474\n",
            "Epoch 33/100\n",
            "15/15 [==============================] - 0s 4ms/step - loss: 0.1520 - accuracy: 0.9604 - val_loss: 0.2181 - val_accuracy: 0.9561\n",
            "Epoch 34/100\n",
            "15/15 [==============================] - 0s 4ms/step - loss: 0.1491 - accuracy: 0.9604 - val_loss: 0.2155 - val_accuracy: 0.9561\n",
            "Epoch 35/100\n",
            "15/15 [==============================] - 0s 4ms/step - loss: 0.1464 - accuracy: 0.9604 - val_loss: 0.2128 - val_accuracy: 0.9561\n",
            "Epoch 36/100\n",
            "15/15 [==============================] - 0s 3ms/step - loss: 0.1437 - accuracy: 0.9604 - val_loss: 0.2105 - val_accuracy: 0.9561\n",
            "Epoch 37/100\n",
            "15/15 [==============================] - 0s 5ms/step - loss: 0.1412 - accuracy: 0.9604 - val_loss: 0.2082 - val_accuracy: 0.9561\n",
            "Epoch 38/100\n",
            "15/15 [==============================] - 0s 5ms/step - loss: 0.1388 - accuracy: 0.9604 - val_loss: 0.2060 - val_accuracy: 0.9561\n",
            "Epoch 39/100\n",
            "15/15 [==============================] - 0s 4ms/step - loss: 0.1366 - accuracy: 0.9604 - val_loss: 0.2038 - val_accuracy: 0.9561\n",
            "Epoch 40/100\n",
            "15/15 [==============================] - 0s 5ms/step - loss: 0.1344 - accuracy: 0.9626 - val_loss: 0.2019 - val_accuracy: 0.9561\n",
            "Epoch 41/100\n",
            "15/15 [==============================] - 0s 4ms/step - loss: 0.1323 - accuracy: 0.9626 - val_loss: 0.1999 - val_accuracy: 0.9561\n",
            "Epoch 42/100\n",
            "15/15 [==============================] - 0s 4ms/step - loss: 0.1303 - accuracy: 0.9626 - val_loss: 0.1981 - val_accuracy: 0.9561\n",
            "Epoch 43/100\n",
            "15/15 [==============================] - 0s 3ms/step - loss: 0.1284 - accuracy: 0.9626 - val_loss: 0.1963 - val_accuracy: 0.9561\n",
            "Epoch 44/100\n",
            "15/15 [==============================] - 0s 4ms/step - loss: 0.1265 - accuracy: 0.9626 - val_loss: 0.1946 - val_accuracy: 0.9561\n",
            "Epoch 45/100\n",
            "15/15 [==============================] - 0s 3ms/step - loss: 0.1248 - accuracy: 0.9626 - val_loss: 0.1930 - val_accuracy: 0.9561\n",
            "Epoch 46/100\n",
            "15/15 [==============================] - 0s 5ms/step - loss: 0.1230 - accuracy: 0.9626 - val_loss: 0.1916 - val_accuracy: 0.9561\n",
            "Epoch 47/100\n",
            "15/15 [==============================] - 0s 4ms/step - loss: 0.1214 - accuracy: 0.9626 - val_loss: 0.1900 - val_accuracy: 0.9561\n",
            "Epoch 48/100\n",
            "15/15 [==============================] - 0s 4ms/step - loss: 0.1198 - accuracy: 0.9648 - val_loss: 0.1885 - val_accuracy: 0.9561\n",
            "Epoch 49/100\n",
            "15/15 [==============================] - 0s 4ms/step - loss: 0.1183 - accuracy: 0.9648 - val_loss: 0.1871 - val_accuracy: 0.9561\n",
            "Epoch 50/100\n",
            "15/15 [==============================] - 0s 3ms/step - loss: 0.1169 - accuracy: 0.9648 - val_loss: 0.1858 - val_accuracy: 0.9561\n",
            "Epoch 51/100\n",
            "15/15 [==============================] - 0s 4ms/step - loss: 0.1155 - accuracy: 0.9648 - val_loss: 0.1846 - val_accuracy: 0.9561\n",
            "Epoch 52/100\n",
            "15/15 [==============================] - 0s 3ms/step - loss: 0.1141 - accuracy: 0.9670 - val_loss: 0.1833 - val_accuracy: 0.9561\n",
            "Epoch 53/100\n",
            "15/15 [==============================] - 0s 3ms/step - loss: 0.1128 - accuracy: 0.9670 - val_loss: 0.1822 - val_accuracy: 0.9561\n",
            "Epoch 54/100\n",
            "15/15 [==============================] - 0s 3ms/step - loss: 0.1116 - accuracy: 0.9670 - val_loss: 0.1811 - val_accuracy: 0.9561\n",
            "Epoch 55/100\n",
            "15/15 [==============================] - 0s 3ms/step - loss: 0.1104 - accuracy: 0.9670 - val_loss: 0.1800 - val_accuracy: 0.9561\n",
            "Epoch 56/100\n",
            "15/15 [==============================] - 0s 3ms/step - loss: 0.1093 - accuracy: 0.9670 - val_loss: 0.1788 - val_accuracy: 0.9561\n",
            "Epoch 57/100\n",
            "15/15 [==============================] - 0s 4ms/step - loss: 0.1080 - accuracy: 0.9670 - val_loss: 0.1779 - val_accuracy: 0.9561\n",
            "Epoch 58/100\n",
            "15/15 [==============================] - 0s 3ms/step - loss: 0.1069 - accuracy: 0.9670 - val_loss: 0.1768 - val_accuracy: 0.9561\n",
            "Epoch 59/100\n",
            "15/15 [==============================] - 0s 5ms/step - loss: 0.1058 - accuracy: 0.9692 - val_loss: 0.1757 - val_accuracy: 0.9561\n",
            "Epoch 60/100\n",
            "15/15 [==============================] - 0s 4ms/step - loss: 0.1048 - accuracy: 0.9692 - val_loss: 0.1747 - val_accuracy: 0.9561\n",
            "Epoch 61/100\n",
            "15/15 [==============================] - 0s 5ms/step - loss: 0.1038 - accuracy: 0.9692 - val_loss: 0.1739 - val_accuracy: 0.9561\n",
            "Epoch 62/100\n",
            "15/15 [==============================] - 0s 4ms/step - loss: 0.1028 - accuracy: 0.9714 - val_loss: 0.1730 - val_accuracy: 0.9561\n",
            "Epoch 63/100\n",
            "15/15 [==============================] - 0s 5ms/step - loss: 0.1018 - accuracy: 0.9714 - val_loss: 0.1722 - val_accuracy: 0.9561\n",
            "Epoch 64/100\n",
            "15/15 [==============================] - 0s 5ms/step - loss: 0.1009 - accuracy: 0.9714 - val_loss: 0.1713 - val_accuracy: 0.9561\n",
            "Epoch 65/100\n",
            "15/15 [==============================] - 0s 4ms/step - loss: 0.1000 - accuracy: 0.9714 - val_loss: 0.1703 - val_accuracy: 0.9561\n",
            "Epoch 66/100\n",
            "15/15 [==============================] - 0s 3ms/step - loss: 0.0990 - accuracy: 0.9736 - val_loss: 0.1695 - val_accuracy: 0.9561\n",
            "Epoch 67/100\n",
            "15/15 [==============================] - 0s 4ms/step - loss: 0.0982 - accuracy: 0.9736 - val_loss: 0.1687 - val_accuracy: 0.9561\n",
            "Epoch 68/100\n",
            "15/15 [==============================] - 0s 3ms/step - loss: 0.0973 - accuracy: 0.9736 - val_loss: 0.1679 - val_accuracy: 0.9561\n",
            "Epoch 69/100\n",
            "15/15 [==============================] - 0s 4ms/step - loss: 0.0965 - accuracy: 0.9736 - val_loss: 0.1672 - val_accuracy: 0.9561\n",
            "Epoch 70/100\n",
            "15/15 [==============================] - 0s 3ms/step - loss: 0.0957 - accuracy: 0.9758 - val_loss: 0.1663 - val_accuracy: 0.9561\n",
            "Epoch 71/100\n",
            "15/15 [==============================] - 0s 5ms/step - loss: 0.0949 - accuracy: 0.9758 - val_loss: 0.1656 - val_accuracy: 0.9561\n",
            "Epoch 72/100\n",
            "15/15 [==============================] - 0s 3ms/step - loss: 0.0941 - accuracy: 0.9758 - val_loss: 0.1649 - val_accuracy: 0.9561\n",
            "Epoch 73/100\n",
            "15/15 [==============================] - 0s 3ms/step - loss: 0.0934 - accuracy: 0.9758 - val_loss: 0.1642 - val_accuracy: 0.9561\n",
            "Epoch 74/100\n",
            "15/15 [==============================] - 0s 4ms/step - loss: 0.0927 - accuracy: 0.9758 - val_loss: 0.1636 - val_accuracy: 0.9561\n",
            "Epoch 75/100\n",
            "15/15 [==============================] - 0s 3ms/step - loss: 0.0920 - accuracy: 0.9758 - val_loss: 0.1630 - val_accuracy: 0.9561\n",
            "Epoch 76/100\n",
            "15/15 [==============================] - 0s 4ms/step - loss: 0.0913 - accuracy: 0.9758 - val_loss: 0.1623 - val_accuracy: 0.9561\n",
            "Epoch 77/100\n",
            "15/15 [==============================] - 0s 5ms/step - loss: 0.0906 - accuracy: 0.9758 - val_loss: 0.1618 - val_accuracy: 0.9561\n",
            "Epoch 78/100\n",
            "15/15 [==============================] - 0s 4ms/step - loss: 0.0899 - accuracy: 0.9758 - val_loss: 0.1613 - val_accuracy: 0.9561\n",
            "Epoch 79/100\n",
            "15/15 [==============================] - 0s 4ms/step - loss: 0.0893 - accuracy: 0.9758 - val_loss: 0.1606 - val_accuracy: 0.9561\n",
            "Epoch 80/100\n",
            "15/15 [==============================] - 0s 3ms/step - loss: 0.0886 - accuracy: 0.9758 - val_loss: 0.1600 - val_accuracy: 0.9561\n",
            "Epoch 81/100\n",
            "15/15 [==============================] - 0s 5ms/step - loss: 0.0880 - accuracy: 0.9758 - val_loss: 0.1596 - val_accuracy: 0.9561\n",
            "Epoch 82/100\n",
            "15/15 [==============================] - 0s 5ms/step - loss: 0.0874 - accuracy: 0.9758 - val_loss: 0.1592 - val_accuracy: 0.9561\n",
            "Epoch 83/100\n",
            "15/15 [==============================] - 0s 6ms/step - loss: 0.0868 - accuracy: 0.9758 - val_loss: 0.1587 - val_accuracy: 0.9561\n",
            "Epoch 84/100\n",
            "15/15 [==============================] - 0s 4ms/step - loss: 0.0862 - accuracy: 0.9780 - val_loss: 0.1582 - val_accuracy: 0.9561\n",
            "Epoch 85/100\n",
            "15/15 [==============================] - 0s 3ms/step - loss: 0.0856 - accuracy: 0.9780 - val_loss: 0.1577 - val_accuracy: 0.9561\n",
            "Epoch 86/100\n",
            "15/15 [==============================] - 0s 3ms/step - loss: 0.0851 - accuracy: 0.9780 - val_loss: 0.1573 - val_accuracy: 0.9561\n",
            "Epoch 87/100\n",
            "15/15 [==============================] - 0s 3ms/step - loss: 0.0846 - accuracy: 0.9802 - val_loss: 0.1566 - val_accuracy: 0.9561\n",
            "Epoch 88/100\n",
            "15/15 [==============================] - 0s 5ms/step - loss: 0.0840 - accuracy: 0.9802 - val_loss: 0.1561 - val_accuracy: 0.9561\n",
            "Epoch 89/100\n",
            "15/15 [==============================] - 0s 4ms/step - loss: 0.0835 - accuracy: 0.9802 - val_loss: 0.1557 - val_accuracy: 0.9561\n",
            "Epoch 90/100\n",
            "15/15 [==============================] - 0s 4ms/step - loss: 0.0829 - accuracy: 0.9802 - val_loss: 0.1551 - val_accuracy: 0.9561\n",
            "Epoch 91/100\n",
            "15/15 [==============================] - 0s 3ms/step - loss: 0.0824 - accuracy: 0.9802 - val_loss: 0.1546 - val_accuracy: 0.9561\n",
            "Epoch 92/100\n",
            "15/15 [==============================] - 0s 3ms/step - loss: 0.0819 - accuracy: 0.9802 - val_loss: 0.1542 - val_accuracy: 0.9561\n",
            "Epoch 93/100\n",
            "15/15 [==============================] - 0s 4ms/step - loss: 0.0815 - accuracy: 0.9802 - val_loss: 0.1538 - val_accuracy: 0.9561\n",
            "Epoch 94/100\n",
            "15/15 [==============================] - 0s 3ms/step - loss: 0.0810 - accuracy: 0.9802 - val_loss: 0.1535 - val_accuracy: 0.9561\n",
            "Epoch 95/100\n",
            "15/15 [==============================] - 0s 4ms/step - loss: 0.0806 - accuracy: 0.9802 - val_loss: 0.1531 - val_accuracy: 0.9561\n",
            "Epoch 96/100\n",
            "15/15 [==============================] - 0s 3ms/step - loss: 0.0801 - accuracy: 0.9802 - val_loss: 0.1527 - val_accuracy: 0.9561\n",
            "Epoch 97/100\n",
            "15/15 [==============================] - 0s 3ms/step - loss: 0.0796 - accuracy: 0.9802 - val_loss: 0.1522 - val_accuracy: 0.9561\n",
            "Epoch 98/100\n",
            "15/15 [==============================] - 0s 3ms/step - loss: 0.0792 - accuracy: 0.9824 - val_loss: 0.1520 - val_accuracy: 0.9561\n",
            "Epoch 99/100\n",
            "15/15 [==============================] - 0s 6ms/step - loss: 0.0787 - accuracy: 0.9824 - val_loss: 0.1515 - val_accuracy: 0.9649\n",
            "Epoch 100/100\n",
            "15/15 [==============================] - 0s 3ms/step - loss: 0.0783 - accuracy: 0.9824 - val_loss: 0.1511 - val_accuracy: 0.9649\n",
            "15/15 [==============================] - 0s 2ms/step - loss: 0.0780 - accuracy: 0.9824\n",
            "Train score: [0.07801145315170288, 0.9824175834655762]\n",
            "4/4 [==============================] - 0s 4ms/step - loss: 0.1511 - accuracy: 0.9649\n",
            "Test score: [0.15105384588241577, 0.9649122953414917]\n"
          ]
        }
      ]
    },
    {
      "cell_type": "code",
      "source": [
        "# Evaluate the model loss\n",
        "import matplotlib.pyplot as plt\n",
        "plt.plot(r.history['loss'], label='loss')\n",
        "plt.plot(r.history['val_loss'], label='val_loss')\n",
        "plt.legend()"
      ],
      "metadata": {
        "colab": {
          "base_uri": "https://localhost:8080/",
          "height": 282
        },
        "id": "5qxuE9gxDx5Y",
        "outputId": "8e955393-e337-40c9-8b4d-3960ee3248ad"
      },
      "execution_count": 20,
      "outputs": [
        {
          "output_type": "execute_result",
          "data": {
            "text/plain": [
              "<matplotlib.legend.Legend at 0x7fb6bdaf74d0>"
            ]
          },
          "metadata": {},
          "execution_count": 20
        },
        {
          "output_type": "display_data",
          "data": {
            "image/png": "[encoded data removed]",
            "text/plain": [
              "<Figure size 432x288 with 1 Axes>"
            ]
          },
          "metadata": {
            "needs_background": "light"
          }
        }
      ]
    },
    {
      "cell_type": "code",
      "source": [
        "# plot the model accuracy\n",
        "import matplotlib.pyplot as plt\n",
        "plt.plot(r.history['accuracy'], label='accuracy')\n",
        "plt.plot(r.history['val_accuracy'], label='val_accuracy')\n",
        "plt.legend()"
      ],
      "metadata": {
        "colab": {
          "base_uri": "https://localhost:8080/",
          "height": 284
        },
        "id": "T4E9cpSXE57_",
        "outputId": "fb0ece74-72e8-4284-97f0-85e746b11fbe"
      },
      "execution_count": 21,
      "outputs": [
        {
          "output_type": "execute_result",
          "data": {
            "text/plain": [
              "<matplotlib.legend.Legend at 0x7fb6bd52be90>"
            ]
          },
          "metadata": {},
          "execution_count": 21
        },
        {
          "output_type": "display_data",
          "data": {
            "image/png": "[encoded data removed]",
            "text/plain": [
              "<Figure size 432x288 with 1 Axes>"
            ]
          },
          "metadata": {
            "needs_background": "light"
          }
        }
      ]
    },
    {
      "cell_type": "markdown",
      "source": [
        "### Model Prediction"
      ],
      "metadata": {
        "id": "bMpln9cuFJ6a"
      }
    },
    {
      "cell_type": "code",
      "source": [
        "# Make prediction\n",
        "pred = model.predict(X_test)\n",
        "pred"
      ],
      "metadata": {
        "colab": {
          "base_uri": "https://localhost:8080/"
        },
        "id": "OHMVzcmDI_jZ",
        "outputId": "968a4487-3d55-4296-c4de-aacf665a6dd4"
      },
      "execution_count": 23,
      "outputs": [
        {
          "output_type": "execute_result",
          "data": {
            "text/plain": [
              "array([[3.1206012e-04],\n",
              "       [7.7832609e-01],\n",
              "       [9.6925050e-01],\n",
              "       [9.9833179e-01],\n",
              "       [8.4073824e-01],\n",
              "       [8.8817751e-01],\n",
              "       [9.9945104e-01],\n",
              "       [8.6462176e-01],\n",
              "       [1.8132266e-01],\n",
              "       [9.0064704e-03],\n",
              "       [1.6412139e-04],\n",
              "       [4.9593464e-01],\n",
              "       [4.6622157e-03],\n",
              "       [9.7350407e-01],\n",
              "       [9.3659711e-01],\n",
              "       [5.2966774e-03],\n",
              "       [5.1777327e-01],\n",
              "       [9.9933130e-01],\n",
              "       [7.3319548e-05],\n",
              "       [9.9489343e-01],\n",
              "       [9.9070370e-01],\n",
              "       [3.0881062e-01],\n",
              "       [9.2823803e-03],\n",
              "       [9.9768329e-01],\n",
              "       [9.8954737e-03],\n",
              "       [9.9470341e-01],\n",
              "       [6.0016987e-06],\n",
              "       [7.7965319e-02],\n",
              "       [9.9709678e-01],\n",
              "       [9.6850514e-01],\n",
              "       [4.3144286e-02],\n",
              "       [9.2330325e-01],\n",
              "       [8.2234675e-01],\n",
              "       [9.9923944e-01],\n",
              "       [9.9956000e-01],\n",
              "       [9.9772799e-01],\n",
              "       [9.6579814e-01],\n",
              "       [7.5982141e-01],\n",
              "       [9.9861503e-01],\n",
              "       [9.7195905e-01],\n",
              "       [9.5457172e-01],\n",
              "       [9.9827039e-01],\n",
              "       [9.9022293e-01],\n",
              "       [9.9568141e-01],\n",
              "       [3.4489483e-01],\n",
              "       [9.9914587e-01],\n",
              "       [9.8346663e-01],\n",
              "       [9.9444866e-01],\n",
              "       [2.9316008e-02],\n",
              "       [2.3536748e-01],\n",
              "       [3.0506956e-06],\n",
              "       [4.6056253e-12],\n",
              "       [9.9349797e-01],\n",
              "       [9.9525356e-01],\n",
              "       [9.9683726e-01],\n",
              "       [9.4190878e-01],\n",
              "       [8.6999190e-01],\n",
              "       [9.9825531e-01],\n",
              "       [2.8386712e-04],\n",
              "       [9.6057379e-01],\n",
              "       [9.9959642e-01],\n",
              "       [5.5451083e-01],\n",
              "       [9.9365020e-01],\n",
              "       [9.9060678e-01],\n",
              "       [9.9550980e-01],\n",
              "       [9.9433529e-01],\n",
              "       [6.3187218e-01],\n",
              "       [9.9795151e-01],\n",
              "       [9.9970943e-01],\n",
              "       [3.5161972e-03],\n",
              "       [6.5960184e-09],\n",
              "       [9.9424577e-01],\n",
              "       [9.9488533e-01],\n",
              "       [1.0239184e-03],\n",
              "       [1.3637859e-01],\n",
              "       [1.2649298e-03],\n",
              "       [9.9956203e-01],\n",
              "       [9.9979782e-01],\n",
              "       [9.8925072e-01],\n",
              "       [7.3104950e-08],\n",
              "       [9.9312651e-01],\n",
              "       [9.9089152e-01],\n",
              "       [8.1619394e-01],\n",
              "       [1.2179911e-03],\n",
              "       [9.8922133e-01],\n",
              "       [9.4556069e-01],\n",
              "       [9.7337055e-01],\n",
              "       [7.9222703e-01],\n",
              "       [9.9892569e-01],\n",
              "       [9.1419560e-01],\n",
              "       [6.1204366e-05],\n",
              "       [9.9963808e-01],\n",
              "       [9.7650450e-01],\n",
              "       [9.9039668e-01],\n",
              "       [7.1153486e-01],\n",
              "       [9.9898571e-01],\n",
              "       [9.8923028e-01],\n",
              "       [1.5462223e-01],\n",
              "       [5.9063613e-01],\n",
              "       [2.2696850e-01],\n",
              "       [1.6740319e-01],\n",
              "       [9.9663287e-01],\n",
              "       [3.6760481e-05],\n",
              "       [6.1198473e-03],\n",
              "       [9.4728935e-01],\n",
              "       [2.4749041e-03],\n",
              "       [6.6567868e-01],\n",
              "       [9.9752665e-01],\n",
              "       [9.5560527e-01],\n",
              "       [1.8199682e-03],\n",
              "       [9.9530101e-01],\n",
              "       [9.0425438e-01],\n",
              "       [9.7575593e-01],\n",
              "       [9.9178886e-01]], dtype=float32)"
            ]
          },
          "metadata": {},
          "execution_count": 23
        }
      ]
    },
    {
      "cell_type": "code",
      "source": [
        "# Round to get the actual predictions\n",
        "# Note: has to be flattened since the targets are size (N,) while the predictions are size (N,1)\n",
        "import numpy as np\n",
        "np.round(pred).flatten()"
      ],
      "metadata": {
        "colab": {
          "base_uri": "https://localhost:8080/"
        },
        "id": "mURv39GcJIko",
        "outputId": "89106e5b-3eb6-4b26-90ec-3456bff14b4e"
      },
      "execution_count": 24,
      "outputs": [
        {
          "output_type": "execute_result",
          "data": {
            "text/plain": [
              "array([0., 1., 1., 1., 1., 1., 1., 1., 0., 0., 0., 0., 0., 1., 1., 0., 1.,\n",
              "       1., 0., 1., 1., 0., 0., 1., 0., 1., 0., 0., 1., 1., 0., 1., 1., 1.,\n",
              "       1., 1., 1., 1., 1., 1., 1., 1., 1., 1., 0., 1., 1., 1., 0., 0., 0.,\n",
              "       0., 1., 1., 1., 1., 1., 1., 0., 1., 1., 1., 1., 1., 1., 1., 1., 1.,\n",
              "       1., 0., 0., 1., 1., 0., 0., 0., 1., 1., 1., 0., 1., 1., 1., 0., 1.,\n",
              "       1., 1., 1., 1., 1., 0., 1., 1., 1., 1., 1., 1., 0., 1., 0., 0., 1.,\n",
              "       0., 0., 1., 0., 1., 1., 1., 0., 1., 1., 1., 1.], dtype=float32)"
            ]
          },
          "metadata": {},
          "execution_count": 24
        }
      ]
    },
    {
      "cell_type": "code",
      "source": [
        ""
      ],
      "metadata": {
        "id": "ME3Q8OUYJnNy"
      },
      "execution_count": null,
      "outputs": []
    }
  ]
}